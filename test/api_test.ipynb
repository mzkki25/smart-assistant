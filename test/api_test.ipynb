{
 "cells": [
  {
   "cell_type": "code",
   "execution_count": 1,
   "id": "e81499dd",
   "metadata": {},
   "outputs": [],
   "source": [
    "import requests\n",
    "import json\n",
    "import sys\n",
    "import os"
   ]
  },
  {
   "cell_type": "code",
   "execution_count": null,
   "id": "415aa4c2",
   "metadata": {},
   "outputs": [
    {
     "name": "stdout",
     "output_type": "stream",
     "text": [
      "File uploaded successfully.\n",
      "Response: {'filename': 'pdf_test.pdf', 'file_location': 'uploads/test_experiment.pdf'}\n"
     ]
    }
   ],
   "source": [
    "file = \"pdf_test.pdf\"\n",
    "url = \"http://localhost:8000/upload_pdf\"\n",
    "\n",
    "files = {'file': open(file, 'rb')}\n",
    "response = requests.post(url, files=files)\n",
    "\n",
    "if response.status_code == 200:\n",
    "    print(\"File uploaded successfully.\")\n",
    "    print(\"Response:\", response.json())\n",
    "else:\n",
    "    print(\"Failed to upload file.\")\n",
    "    print(\"Status code:\", response.status_code)\n",
    "    print(\"Response:\", response.text)"
   ]
  },
  {
   "cell_type": "code",
   "execution_count": 3,
   "id": "83b49830",
   "metadata": {},
   "outputs": [
    {
     "name": "stdout",
     "output_type": "stream",
     "text": [
      "File uploaded successfully.\n",
      "Response: {'caption': \"Beberapa grafik menampilkan berbagai tahap siklus pelatihan kuda. Ini mencakup berbagai tahap siklus pelatihan untuk kuda-kuda yang berada di area yang sama pada waktu hari yang sama. Meskipun ada pengulangan kata 'day', dapat diasumsikan bahwa ini merujuk pada observasi harian atau mungkin variasi dalam kondisi harian yang mempengaruhi siklus pelatihan. Dengan demikian, grafik tersebut menunjukkan perkembangan dan adaptasi kuda selama proses pelatihannya dalam berbagai kondisi.\", 'tags': ['couple', 'graph', 'stage', 'horse', 'training'], 'filename': 'img_test.png'}\n"
     ]
    }
   ],
   "source": [
    "file = \"img_test.png\"\n",
    "url = \"http://localhost:8000/upload_image\"\n",
    "\n",
    "files = {'file': open(file, 'rb')}\n",
    "response = requests.post(url, files=files)\n",
    "\n",
    "if response.status_code == 200:\n",
    "    print(\"File uploaded successfully.\")\n",
    "    print(\"Response:\", response.json())\n",
    "else:\n",
    "    print(\"Failed to upload file.\")\n",
    "    print(\"Status code:\", response.status_code)\n",
    "    print(\"Response:\", response.text)"
   ]
  },
  {
   "cell_type": "code",
   "execution_count": 6,
   "id": "3f08f0c6",
   "metadata": {},
   "outputs": [
    {
     "name": "stdout",
     "output_type": "stream",
     "text": [
      "✅ Request successful.\n",
      "🧠 Response: {'answer': 'Akmal Muzakki Bakir adalah mahasiswa semester akhir Ilmu Data di Universitas Telkom dengan prestasi akademik tinggi (IPK 3.91/4). Dia memiliki pengalaman luas di bidang rekayasa data dan pembelajaran mesin, dengan fokus pada deteksi objek berbasis YOLOv8 dan komputasi awan. Akmal telah menjalani magang di Kalbe Nutritionals dan Astra International, serta berpartisipasi dalam penelitian di BRIN dan Universitas Sebelas Maret. Dia telah berkontribusi dalam berbagai proyek, termasuk klasifikasi fitoplankton dan analisis kampanye politik. Akmal mahir dalam Python, Java, Go, SQL dan berbagai alat seperti Google Cloud dan TensorFlow. Dia telah meraih berbagai penghargaan dalam kompetisi sains, matematika, dan ilmu data. Keterampilan Akmal meliputi pemrograman, penggunaan berbagai jenis database, dan pengetahuan tentang teknik cloud computing dan AI/ML. Akmal berencana menerapkan solusi AI dan data-driven untuk menyelesaikan masalah dunia nyata.'}\n"
     ]
    }
   ],
   "source": [
    "url = \"http://localhost:8000/ask\"\n",
    "text = \"Jelaskan mengenai summarization text ini\"\n",
    "\n",
    "payload = {\n",
    "    \"question\": text\n",
    "}\n",
    "\n",
    "response = requests.post(url, json=payload)\n",
    "\n",
    "if response.status_code == 200:\n",
    "    print(\"✅ Request successful.\")\n",
    "    print(\"🧠 Response:\", response.json())\n",
    "else:\n",
    "    print(\"❌ Request failed.\")\n",
    "    print(\"Status code:\", response.status_code)\n",
    "    print(\"Response:\", response.text)"
   ]
  }
 ],
 "metadata": {
  "kernelspec": {
   "display_name": "base",
   "language": "python",
   "name": "python3"
  },
  "language_info": {
   "codemirror_mode": {
    "name": "ipython",
    "version": 3
   },
   "file_extension": ".py",
   "mimetype": "text/x-python",
   "name": "python",
   "nbconvert_exporter": "python",
   "pygments_lexer": "ipython3",
   "version": "3.12.7"
  }
 },
 "nbformat": 4,
 "nbformat_minor": 5
}
